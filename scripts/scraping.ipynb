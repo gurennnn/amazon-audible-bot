{
 "cells": [
  {
   "cell_type": "markdown",
   "metadata": {},
   "source": [
    "# Amazon Audible Bot\n",
    "\n",
    "Website: [Audible](https://www.audible.com/search)\n",
    "\n",
    "Note that the script in the notebook will not use a headless browser so you can see the bot in action, contrary to the python script, which will run in the background."
   ]
  },
  {
   "cell_type": "markdown",
   "metadata": {},
   "source": [
    "We first start by importing the required libraries."
   ]
  },
  {
   "cell_type": "code",
   "execution_count": 46,
   "metadata": {},
   "outputs": [],
   "source": [
    "from utils import *\n",
    "import pandas as pd\n",
    "from selenium import webdriver\n",
    "from selenium.webdriver.support.ui import WebDriverWait\n",
    "from selenium.webdriver.support import expected_conditions as EC\n",
    "from selenium.webdriver.common.by import By"
   ]
  },
  {
   "cell_type": "markdown",
   "metadata": {},
   "source": [
    "Then we need to setup and initialize the driver."
   ]
  },
  {
   "cell_type": "code",
   "execution_count": 47,
   "metadata": {},
   "outputs": [],
   "source": [
    "# initialize chrome driver\n",
    "driver = webdriver.Chrome('/usr/bin/chromedriver/chromedriver')\n",
    "url = 'https://www.audible.com/search'\n",
    "driver.get(url)\n",
    "# maximize window for locating all the elements we need\n",
    "driver.maximize_window()"
   ]
  },
  {
   "cell_type": "markdown",
   "metadata": {},
   "source": [
    "The first thing we do is to get the pagination element, get the number of pages (which is the number of the last page), so we can loop through all of the pages."
   ]
  },
  {
   "cell_type": "code",
   "execution_count": 48,
   "metadata": {},
   "outputs": [
    {
     "name": "stdout",
     "output_type": "stream",
     "text": [
      "The number of pages to scrape: 25\n"
     ]
    }
   ],
   "source": [
    "# pagination\n",
    "pagination_bar_elements = driver.find_element_by_xpath('//ul[contains(@class, \"pagingElements\")]').find_elements_by_tag_name('li')\n",
    "last_page = int(pagination_bar_elements[-2].text)\n",
    "print('The number of pages to scrape:', last_page)"
   ]
  },
  {
   "cell_type": "markdown",
   "metadata": {},
   "source": [
    "Now, we can work on the logic to get books data from each page."
   ]
  },
  {
   "cell_type": "code",
   "execution_count": 49,
   "metadata": {},
   "outputs": [
    {
     "name": "stdout",
     "output_type": "stream",
     "text": [
      "The number of books in the current page: 20\n",
      "Dragon's Justice 7\n",
      "Bruce Sentar\n",
      "603\n",
      "2023-07-09\n",
      "24.95\n"
     ]
    }
   ],
   "source": [
    "# get the main content of the page\n",
    "content = driver.find_element_by_id('center-3')\n",
    "books = content.find_elements_by_xpath('./div/div/div/span/ul/li')\n",
    "print('The number of books in the current page:', len(books))\n",
    "\n",
    "# try on the first book\n",
    "first_book = books[0]\n",
    "\n",
    "title = first_book.find_element_by_tag_name('h3').text\n",
    "\n",
    "authors_text = get_authors(first_book.find_element_by_xpath('.//li[contains(@class, \"authorLabel\")]').text)\n",
    "\n",
    "length = get_length(first_book.find_element_by_xpath('.//li[contains(@class, \"runtimeLabel\")]').text)\n",
    "\n",
    "date = get_date(first_book.find_element_by_xpath('.//li[contains(@class, \"releaseDateLabel\")]').text)\n",
    "\n",
    "price = get_price(first_book.find_element_by_xpath('.//p[contains(@id, \"buybox-regular-price\")]').text)\n",
    "\n",
    "print(title)\n",
    "print(authors_text)\n",
    "print(length)\n",
    "print(date)\n",
    "print(price)"
   ]
  },
  {
   "cell_type": "markdown",
   "metadata": {},
   "source": [
    "We see that the whole process is working fine, let's now group all of these steps together, and not forget to add a delay between each page, so that we don't get blocked by the website."
   ]
  },
  {
   "cell_type": "code",
   "execution_count": 50,
   "metadata": {},
   "outputs": [
    {
     "name": "stdout",
     "output_type": "stream",
     "text": [
      "Current page: 1\n"
     ]
    },
    {
     "data": {
      "text/plain": [
       "(20, 20, 20, 20, 20)"
      ]
     },
     "execution_count": 50,
     "metadata": {},
     "output_type": "execute_result"
    }
   ],
   "source": [
    "titles = []\n",
    "authors = []\n",
    "lengths = []\n",
    "dates = []\n",
    "prices = []\n",
    "\n",
    "content = driver.find_element_by_id('center-3')\n",
    "books = content.find_elements_by_xpath('./div/div/div/span/ul/li')\n",
    "\n",
    "print('Current page:', 1)\n",
    "\n",
    "# loop through the books and get the information\n",
    "for book in books:\n",
    "    title = book.find_element_by_tag_name('h3').text\n",
    "    titles.append(title)\n",
    "    authors_text = get_authors(book.find_element_by_xpath('.//li[contains(@class, \"authorLabel\")]').text)\n",
    "    authors.append(authors_text)\n",
    "    length = get_length(book.find_element_by_xpath('.//li[contains(@class, \"runtimeLabel\")]').text)\n",
    "    lengths.append(length)\n",
    "    date = get_date(book.find_element_by_xpath('.//li[contains(@class, \"releaseDateLabel\")]').text)\n",
    "    dates.append(date)\n",
    "    price = get_price(book.find_element_by_xpath('.//p[contains(@id, \"buybox-regular-price\")]').text)\n",
    "    prices.append(price)\n",
    "\n",
    "len(titles), len(authors), len(lengths), len(dates), len(prices)"
   ]
  },
  {
   "cell_type": "code",
   "execution_count": 51,
   "metadata": {},
   "outputs": [
    {
     "name": "stdout",
     "output_type": "stream",
     "text": [
      "Current page:  2\n",
      "Current page:  3\n"
     ]
    }
   ],
   "source": [
    "for n_page in range(1, last_page)[:2]:\n",
    "    # go to the next page\n",
    "    driver.find_element_by_xpath('//span[contains(@class, \"nextButton\")]').click()\n",
    "    print('Current page: ', n_page+1)\n",
    "    # add condition for sleep time\n",
    "    condition = EC.presence_of_element_located((By.ID, 'center-3'))\n",
    "    content = WebDriverWait(driver, 2).until(condition)\n",
    "    books = content.find_elements_by_xpath('./div/div/div/span/ul/li')\n",
    "    for book in books:\n",
    "        title = book.find_element_by_tag_name('h3').text\n",
    "        titles.append(title)\n",
    "        authors_text = get_authors(book.find_element_by_xpath('.//li[contains(@class, \"authorLabel\")]').text)\n",
    "        authors.append(authors_text)\n",
    "        length = get_length(book.find_element_by_xpath('.//li[contains(@class, \"runtimeLabel\")]').text)\n",
    "        lengths.append(length)\n",
    "        date = get_date(book.find_element_by_xpath('.//li[contains(@class, \"releaseDateLabel\")]').text)\n",
    "        dates.append(date)\n",
    "        price = get_price(book.find_element_by_xpath('.//p[contains(@id, \"buybox-regular-price\")]').text)\n",
    "        prices.append(price)"
   ]
  },
  {
   "cell_type": "code",
   "execution_count": 52,
   "metadata": {},
   "outputs": [
    {
     "data": {
      "text/plain": [
       "(59, 59, 59, 59, 59)"
      ]
     },
     "execution_count": 52,
     "metadata": {},
     "output_type": "execute_result"
    }
   ],
   "source": [
    "len(titles), len(authors), len(lengths), len(dates), len(prices)"
   ]
  },
  {
   "cell_type": "code",
   "execution_count": 53,
   "metadata": {},
   "outputs": [],
   "source": [
    "# quit the driver\n",
    "driver.quit()"
   ]
  },
  {
   "cell_type": "markdown",
   "metadata": {},
   "source": [
    "Finally, we can save the lists in a pandas dataframe, and export it to a csv file."
   ]
  },
  {
   "cell_type": "code",
   "execution_count": null,
   "metadata": {},
   "outputs": [],
   "source": [
    "# create a dataframe\n",
    "df = pd.DataFrame({\n",
    "    'title': titles,\n",
    "    'authors': authors,\n",
    "    'length': lengths,\n",
    "    'release_date': dates,\n",
    "    'price': prices\n",
    "})\n",
    "\n",
    "# save to csv\n",
    "df.to_csv('../data/audible_sample.csv', index=False)"
   ]
  }
 ],
 "metadata": {
  "kernelspec": {
   "display_name": "base",
   "language": "python",
   "name": "python3"
  },
  "language_info": {
   "codemirror_mode": {
    "name": "ipython",
    "version": 3
   },
   "file_extension": ".py",
   "mimetype": "text/x-python",
   "name": "python",
   "nbconvert_exporter": "python",
   "pygments_lexer": "ipython3",
   "version": "3.10.11"
  },
  "orig_nbformat": 4
 },
 "nbformat": 4,
 "nbformat_minor": 2
}
